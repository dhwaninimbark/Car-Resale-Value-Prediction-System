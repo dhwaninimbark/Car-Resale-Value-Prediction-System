{
 "cells": [
  {
   "cell_type": "code",
   "execution_count": 1,
   "metadata": {},
   "outputs": [],
   "source": [
    "from bs4 import BeautifulSoup\n",
    "import requests\n",
    "import pandas as pd"
   ]
  },
  {
   "cell_type": "code",
   "execution_count": 38,
   "metadata": {},
   "outputs": [],
   "source": [
    "model=[]\n",
    "price=[]\n",
    "kms=[]\n",
    "fuel=[]\n",
    "for i in range(1,31):\n",
    "    i = str(i)\n",
    "    url = \"https://www.cars24.com/buy-used-maruti-suzuki-swift-dzire-cars-hyderabad/?page=\"+i\n",
    "    r = requests.get(url)\n",
    "    soup = BeautifulSoup(r.content, 'html5lib') \n",
    "    l = soup.findAll('div',attrs = {'class':'_1gEgO'})\n",
    "    model.append(soup.findAll('li', attrs = {'itemprop':'modelDate'}))\n",
    "    price.append(soup.findAll('strong',attrs={'class':'_1_oF1'}))\n",
    "    for i in l:\n",
    "        s = i.findAll('li')\n",
    "        s=s[2]\n",
    "        kms.append(s)\n",
    "    fuel.append(soup.findAll('span', attrs = {'class':'_36qGZ'}))"
   ]
  },
  {
   "cell_type": "code",
   "execution_count": 39,
   "metadata": {},
   "outputs": [],
   "source": [
    "import re\n",
    "km_driven =  []\n",
    "for i in kms:\n",
    "    i = str(i)\n",
    "    km_driven.append(re.sub('[^0-9,]', \"\", i))"
   ]
  },
  {
   "cell_type": "code",
   "execution_count": 40,
   "metadata": {},
   "outputs": [],
   "source": [
    "import re\n",
    "model_yr = []\n",
    "for i in model:\n",
    "    for j in i:\n",
    "        j=str(j)\n",
    "        model_yr.append(re.sub('[^0-9,]', \"\", j))"
   ]
  },
  {
   "cell_type": "code",
   "execution_count": 41,
   "metadata": {},
   "outputs": [],
   "source": [
    "car_price = []\n",
    "for i in price:\n",
    "    for j in i:\n",
    "        j=str(j)\n",
    "        x=re.sub('[^0-9,]', \"\", j)\n",
    "        x=x[2:]\n",
    "        car_price.append(x)"
   ]
  },
  {
   "cell_type": "code",
   "execution_count": 42,
   "metadata": {},
   "outputs": [],
   "source": [
    "fuel_type = []\n",
    "for i in fuel:\n",
    "    for j in i:\n",
    "        j=str(j)\n",
    "        fuel_type.append(re.search('>(.*?)<',j).group(1))"
   ]
  },
  {
   "cell_type": "code",
   "execution_count": 43,
   "metadata": {},
   "outputs": [],
   "source": [
    "dictionary = { 'model' : model_yr, 'fuel' : fuel_type, 'km_driven' : km_driven, 'resale_val' : car_price}"
   ]
  },
  {
   "cell_type": "code",
   "execution_count": 44,
   "metadata": {},
   "outputs": [],
   "source": [
    "data = pd.DataFrame(dictionary)"
   ]
  },
  {
   "cell_type": "code",
   "execution_count": 45,
   "metadata": {},
   "outputs": [
    {
     "data": {
      "text/html": [
       "<div>\n",
       "<style scoped>\n",
       "    .dataframe tbody tr th:only-of-type {\n",
       "        vertical-align: middle;\n",
       "    }\n",
       "\n",
       "    .dataframe tbody tr th {\n",
       "        vertical-align: top;\n",
       "    }\n",
       "\n",
       "    .dataframe thead th {\n",
       "        text-align: right;\n",
       "    }\n",
       "</style>\n",
       "<table border=\"1\" class=\"dataframe\">\n",
       "  <thead>\n",
       "    <tr style=\"text-align: right;\">\n",
       "      <th></th>\n",
       "      <th>model</th>\n",
       "      <th>fuel</th>\n",
       "      <th>km_driven</th>\n",
       "      <th>resale_val</th>\n",
       "    </tr>\n",
       "  </thead>\n",
       "  <tbody>\n",
       "    <tr>\n",
       "      <th>0</th>\n",
       "      <td>2015</td>\n",
       "      <td>Diesel</td>\n",
       "      <td>1,25,954</td>\n",
       "      <td>6,29,700</td>\n",
       "    </tr>\n",
       "    <tr>\n",
       "      <th>1</th>\n",
       "      <td>2016</td>\n",
       "      <td>Diesel</td>\n",
       "      <td>1,00,228</td>\n",
       "      <td>6,49,800</td>\n",
       "    </tr>\n",
       "    <tr>\n",
       "      <th>2</th>\n",
       "      <td>2015</td>\n",
       "      <td>Diesel</td>\n",
       "      <td>59,826</td>\n",
       "      <td>6,63,100</td>\n",
       "    </tr>\n",
       "    <tr>\n",
       "      <th>3</th>\n",
       "      <td>2010</td>\n",
       "      <td>Petrol</td>\n",
       "      <td>40,754</td>\n",
       "      <td>3,26,000</td>\n",
       "    </tr>\n",
       "    <tr>\n",
       "      <th>4</th>\n",
       "      <td>2015</td>\n",
       "      <td>Diesel</td>\n",
       "      <td>75,000</td>\n",
       "      <td>6,50,000</td>\n",
       "    </tr>\n",
       "    <tr>\n",
       "      <th>...</th>\n",
       "      <td>...</td>\n",
       "      <td>...</td>\n",
       "      <td>...</td>\n",
       "      <td>...</td>\n",
       "    </tr>\n",
       "    <tr>\n",
       "      <th>61</th>\n",
       "      <td>2013</td>\n",
       "      <td>Diesel</td>\n",
       "      <td>50,708</td>\n",
       "      <td>4,70,000</td>\n",
       "    </tr>\n",
       "    <tr>\n",
       "      <th>62</th>\n",
       "      <td>2010</td>\n",
       "      <td>Diesel</td>\n",
       "      <td>2,59,333</td>\n",
       "      <td>2,80,000</td>\n",
       "    </tr>\n",
       "    <tr>\n",
       "      <th>63</th>\n",
       "      <td>2015</td>\n",
       "      <td>Diesel</td>\n",
       "      <td>83,903</td>\n",
       "      <td>5,40,000</td>\n",
       "    </tr>\n",
       "    <tr>\n",
       "      <th>64</th>\n",
       "      <td>2014</td>\n",
       "      <td>Petrol</td>\n",
       "      <td>42,444</td>\n",
       "      <td>5,20,000</td>\n",
       "    </tr>\n",
       "    <tr>\n",
       "      <th>65</th>\n",
       "      <td>2017</td>\n",
       "      <td>Diesel</td>\n",
       "      <td>52,457</td>\n",
       "      <td>7,00,000</td>\n",
       "    </tr>\n",
       "  </tbody>\n",
       "</table>\n",
       "<p>66 rows × 4 columns</p>\n",
       "</div>"
      ],
      "text/plain": [
       "   model    fuel km_driven resale_val\n",
       "0   2015  Diesel  1,25,954   6,29,700\n",
       "1   2016  Diesel  1,00,228   6,49,800\n",
       "2   2015  Diesel    59,826   6,63,100\n",
       "3   2010  Petrol    40,754   3,26,000\n",
       "4   2015  Diesel    75,000   6,50,000\n",
       "..   ...     ...       ...        ...\n",
       "61  2013  Diesel    50,708   4,70,000\n",
       "62  2010  Diesel  2,59,333   2,80,000\n",
       "63  2015  Diesel    83,903   5,40,000\n",
       "64  2014  Petrol    42,444   5,20,000\n",
       "65  2017  Diesel    52,457   7,00,000\n",
       "\n",
       "[66 rows x 4 columns]"
      ]
     },
     "execution_count": 45,
     "metadata": {},
     "output_type": "execute_result"
    }
   ],
   "source": [
    "data"
   ]
  },
  {
   "cell_type": "code",
   "execution_count": 46,
   "metadata": {},
   "outputs": [],
   "source": [
    "data.to_csv('hyderabad.csv')"
   ]
  },
  {
   "cell_type": "code",
   "execution_count": 2,
   "metadata": {},
   "outputs": [
    {
     "ename": "httperror_seek_wrapper",
     "evalue": "HTTP Error 403: b'request disallowed by robots.txt'",
     "output_type": "error",
     "traceback": [
      "\u001b[1;31m---------------------------------------------------------------------------\u001b[0m",
      "\u001b[1;31mhttperror_seek_wrapper\u001b[0m                    Traceback (most recent call last)",
      "\u001b[1;32m<ipython-input-2-ca2155272af8>\u001b[0m in \u001b[0;36m<module>\u001b[1;34m\u001b[0m\n\u001b[0;32m      1\u001b[0m \u001b[1;32mimport\u001b[0m \u001b[0mmechanize\u001b[0m\u001b[1;33m\u001b[0m\u001b[1;33m\u001b[0m\u001b[0m\n\u001b[0;32m      2\u001b[0m \u001b[0mbr\u001b[0m \u001b[1;33m=\u001b[0m \u001b[0mmechanize\u001b[0m\u001b[1;33m.\u001b[0m\u001b[0mBrowser\u001b[0m\u001b[1;33m(\u001b[0m\u001b[1;33m)\u001b[0m\u001b[1;33m\u001b[0m\u001b[1;33m\u001b[0m\u001b[0m\n\u001b[1;32m----> 3\u001b[1;33m \u001b[0mbr\u001b[0m\u001b[1;33m.\u001b[0m\u001b[0mopen\u001b[0m\u001b[1;33m(\u001b[0m\u001b[1;34m\"http://www.google.com/\"\u001b[0m\u001b[1;33m)\u001b[0m\u001b[1;33m\u001b[0m\u001b[1;33m\u001b[0m\u001b[0m\n\u001b[0m\u001b[0;32m      4\u001b[0m \u001b[1;32mfor\u001b[0m \u001b[0mf\u001b[0m \u001b[1;32min\u001b[0m \u001b[0mbr\u001b[0m\u001b[1;33m.\u001b[0m\u001b[0mforms\u001b[0m\u001b[1;33m(\u001b[0m\u001b[1;33m)\u001b[0m\u001b[1;33m:\u001b[0m\u001b[1;33m\u001b[0m\u001b[1;33m\u001b[0m\u001b[0m\n\u001b[0;32m      5\u001b[0m     \u001b[0mprint\u001b[0m\u001b[1;33m(\u001b[0m\u001b[0mf\u001b[0m\u001b[1;33m)\u001b[0m\u001b[1;33m\u001b[0m\u001b[1;33m\u001b[0m\u001b[0m\n",
      "\u001b[1;32m~\\anaconda3\\lib\\site-packages\\mechanize\\_mechanize.py\u001b[0m in \u001b[0;36mopen\u001b[1;34m(self, url_or_request, data, timeout)\u001b[0m\n\u001b[0;32m    255\u001b[0m         \u001b[1;33m:\u001b[0m\u001b[1;32mreturn\u001b[0m\u001b[1;33m:\u001b[0m \u001b[0mA\u001b[0m \u001b[1;33m:\u001b[0m\u001b[1;32mclass\u001b[0m\u001b[1;33m:\u001b[0m\u001b[0;31m`\u001b[0m\u001b[0mmechanize\u001b[0m\u001b[1;33m.\u001b[0m\u001b[0mResponse\u001b[0m\u001b[0;31m`\u001b[0m \u001b[0mobject\u001b[0m\u001b[1;33m\u001b[0m\u001b[1;33m\u001b[0m\u001b[0m\n\u001b[0;32m    256\u001b[0m         '''\n\u001b[1;32m--> 257\u001b[1;33m         \u001b[1;32mreturn\u001b[0m \u001b[0mself\u001b[0m\u001b[1;33m.\u001b[0m\u001b[0m_mech_open\u001b[0m\u001b[1;33m(\u001b[0m\u001b[0murl_or_request\u001b[0m\u001b[1;33m,\u001b[0m \u001b[0mdata\u001b[0m\u001b[1;33m,\u001b[0m \u001b[0mtimeout\u001b[0m\u001b[1;33m=\u001b[0m\u001b[0mtimeout\u001b[0m\u001b[1;33m)\u001b[0m\u001b[1;33m\u001b[0m\u001b[1;33m\u001b[0m\u001b[0m\n\u001b[0m\u001b[0;32m    258\u001b[0m \u001b[1;33m\u001b[0m\u001b[0m\n\u001b[0;32m    259\u001b[0m     def _mech_open(self,\n",
      "\u001b[1;32m~\\anaconda3\\lib\\site-packages\\mechanize\\_mechanize.py\u001b[0m in \u001b[0;36m_mech_open\u001b[1;34m(self, url, data, update_history, visit, timeout)\u001b[0m\n\u001b[0;32m    311\u001b[0m \u001b[1;33m\u001b[0m\u001b[0m\n\u001b[0;32m    312\u001b[0m         \u001b[1;32mif\u001b[0m \u001b[1;32mnot\u001b[0m \u001b[0msuccess\u001b[0m\u001b[1;33m:\u001b[0m\u001b[1;33m\u001b[0m\u001b[1;33m\u001b[0m\u001b[0m\n\u001b[1;32m--> 313\u001b[1;33m             \u001b[1;32mraise\u001b[0m \u001b[0mresponse\u001b[0m\u001b[1;33m\u001b[0m\u001b[1;33m\u001b[0m\u001b[0m\n\u001b[0m\u001b[0;32m    314\u001b[0m         \u001b[1;32mreturn\u001b[0m \u001b[0mresponse\u001b[0m\u001b[1;33m\u001b[0m\u001b[1;33m\u001b[0m\u001b[0m\n\u001b[0;32m    315\u001b[0m \u001b[1;33m\u001b[0m\u001b[0m\n",
      "\u001b[1;31mhttperror_seek_wrapper\u001b[0m: HTTP Error 403: b'request disallowed by robots.txt'"
     ]
    }
   ],
   "source": [
    "import mechanize\n",
    "br = mechanize.Browser()\n",
    "br.open(\"http://www.google.com/\")\n",
    "for f in br.forms():\n",
    "    print(f)"
   ]
  },
  {
   "cell_type": "code",
   "execution_count": null,
   "metadata": {},
   "outputs": [],
   "source": []
  }
 ],
 "metadata": {
  "kernelspec": {
   "display_name": "Python 3",
   "language": "python",
   "name": "python3"
  },
  "language_info": {
   "codemirror_mode": {
    "name": "ipython",
    "version": 3
   },
   "file_extension": ".py",
   "mimetype": "text/x-python",
   "name": "python",
   "nbconvert_exporter": "python",
   "pygments_lexer": "ipython3",
   "version": "3.8.5"
  }
 },
 "nbformat": 4,
 "nbformat_minor": 4
}
